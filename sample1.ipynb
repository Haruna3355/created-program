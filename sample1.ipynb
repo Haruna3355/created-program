{
  "cells": [
    {
      "cell_type": "code",
      "execution_count": null,
      "metadata": {
        "id": "_qivBVvOUsGC"
      },
      "outputs": [],
      "source": [
        "# 必要なパッケージのインストール\n",
        "import copy\n",
        "import time\n",
        "import os\n",
        "import numpy as np\n",
        "import matplotlib.pyplot as plt\n",
        "from tqdm import tqdm\n",
        "import torch\n",
        "import torchvision\n",
        "from torchvision import models\n",
        "import torchvision.transforms as transforms\n",
        "import torchvision.models as models\n",
        "from torchvision.datasets import ImageFolder\n",
        "import torch.utils.data as data\n",
        "from torch.utils.data import TensorDataset, DataLoader\n",
        "from torch import nn\n",
        "import torch.nn.functional as F\n",
        "from torch import optim\n"
      ]
    },
    {
      "cell_type": "code",
      "execution_count": null,
      "metadata": {
        "colab": {
          "base_uri": "https://localhost:8080/",
          "height": 344
        },
        "id": "w02dBreSgpJp",
        "outputId": "2ccd0a8e-bbff-4654-fc8b-490333346fc9"
      },
      "outputs": [
        {
          "output_type": "error",
          "ename": "MessageError",
          "evalue": "ignored",
          "traceback": [
            "\u001b[0;31m---------------------------------------------------------------------------\u001b[0m",
            "\u001b[0;31mMessageError\u001b[0m                              Traceback (most recent call last)",
            "\u001b[0;32m<ipython-input-2-d5df0069828e>\u001b[0m in \u001b[0;36m<module>\u001b[0;34m\u001b[0m\n\u001b[1;32m      1\u001b[0m \u001b[0;32mfrom\u001b[0m \u001b[0mgoogle\u001b[0m\u001b[0;34m.\u001b[0m\u001b[0mcolab\u001b[0m \u001b[0;32mimport\u001b[0m \u001b[0mdrive\u001b[0m\u001b[0;34m\u001b[0m\u001b[0;34m\u001b[0m\u001b[0m\n\u001b[0;32m----> 2\u001b[0;31m \u001b[0mdrive\u001b[0m\u001b[0;34m.\u001b[0m\u001b[0mmount\u001b[0m\u001b[0;34m(\u001b[0m\u001b[0;34m'/content/drive'\u001b[0m\u001b[0;34m)\u001b[0m\u001b[0;34m\u001b[0m\u001b[0;34m\u001b[0m\u001b[0m\n\u001b[0m",
            "\u001b[0;32m/usr/local/lib/python3.7/dist-packages/google/colab/drive.py\u001b[0m in \u001b[0;36mmount\u001b[0;34m(mountpoint, force_remount, timeout_ms, readonly)\u001b[0m\n\u001b[1;32m    104\u001b[0m       \u001b[0mtimeout_ms\u001b[0m\u001b[0;34m=\u001b[0m\u001b[0mtimeout_ms\u001b[0m\u001b[0;34m,\u001b[0m\u001b[0;34m\u001b[0m\u001b[0;34m\u001b[0m\u001b[0m\n\u001b[1;32m    105\u001b[0m       \u001b[0mephemeral\u001b[0m\u001b[0;34m=\u001b[0m\u001b[0;32mTrue\u001b[0m\u001b[0;34m,\u001b[0m\u001b[0;34m\u001b[0m\u001b[0;34m\u001b[0m\u001b[0m\n\u001b[0;32m--> 106\u001b[0;31m       readonly=readonly)\n\u001b[0m\u001b[1;32m    107\u001b[0m \u001b[0;34m\u001b[0m\u001b[0m\n\u001b[1;32m    108\u001b[0m \u001b[0;34m\u001b[0m\u001b[0m\n",
            "\u001b[0;32m/usr/local/lib/python3.7/dist-packages/google/colab/drive.py\u001b[0m in \u001b[0;36m_mount\u001b[0;34m(mountpoint, force_remount, timeout_ms, ephemeral, readonly)\u001b[0m\n\u001b[1;32m    123\u001b[0m   \u001b[0;32mif\u001b[0m \u001b[0mephemeral\u001b[0m\u001b[0;34m:\u001b[0m\u001b[0;34m\u001b[0m\u001b[0;34m\u001b[0m\u001b[0m\n\u001b[1;32m    124\u001b[0m     _message.blocking_request(\n\u001b[0;32m--> 125\u001b[0;31m         'request_auth', request={'authType': 'dfs_ephemeral'}, timeout_sec=None)\n\u001b[0m\u001b[1;32m    126\u001b[0m \u001b[0;34m\u001b[0m\u001b[0m\n\u001b[1;32m    127\u001b[0m   \u001b[0mmountpoint\u001b[0m \u001b[0;34m=\u001b[0m \u001b[0m_os\u001b[0m\u001b[0;34m.\u001b[0m\u001b[0mpath\u001b[0m\u001b[0;34m.\u001b[0m\u001b[0mexpanduser\u001b[0m\u001b[0;34m(\u001b[0m\u001b[0mmountpoint\u001b[0m\u001b[0;34m)\u001b[0m\u001b[0;34m\u001b[0m\u001b[0;34m\u001b[0m\u001b[0m\n",
            "\u001b[0;32m/usr/local/lib/python3.7/dist-packages/google/colab/_message.py\u001b[0m in \u001b[0;36mblocking_request\u001b[0;34m(request_type, request, timeout_sec, parent)\u001b[0m\n\u001b[1;32m    169\u001b[0m   request_id = send_request(\n\u001b[1;32m    170\u001b[0m       request_type, request, parent=parent, expect_reply=True)\n\u001b[0;32m--> 171\u001b[0;31m   \u001b[0;32mreturn\u001b[0m \u001b[0mread_reply_from_input\u001b[0m\u001b[0;34m(\u001b[0m\u001b[0mrequest_id\u001b[0m\u001b[0;34m,\u001b[0m \u001b[0mtimeout_sec\u001b[0m\u001b[0;34m)\u001b[0m\u001b[0;34m\u001b[0m\u001b[0;34m\u001b[0m\u001b[0m\n\u001b[0m",
            "\u001b[0;32m/usr/local/lib/python3.7/dist-packages/google/colab/_message.py\u001b[0m in \u001b[0;36mread_reply_from_input\u001b[0;34m(message_id, timeout_sec)\u001b[0m\n\u001b[1;32m    100\u001b[0m         reply.get('colab_msg_id') == message_id):\n\u001b[1;32m    101\u001b[0m       \u001b[0;32mif\u001b[0m \u001b[0;34m'error'\u001b[0m \u001b[0;32min\u001b[0m \u001b[0mreply\u001b[0m\u001b[0;34m:\u001b[0m\u001b[0;34m\u001b[0m\u001b[0;34m\u001b[0m\u001b[0m\n\u001b[0;32m--> 102\u001b[0;31m         \u001b[0;32mraise\u001b[0m \u001b[0mMessageError\u001b[0m\u001b[0;34m(\u001b[0m\u001b[0mreply\u001b[0m\u001b[0;34m[\u001b[0m\u001b[0;34m'error'\u001b[0m\u001b[0;34m]\u001b[0m\u001b[0;34m)\u001b[0m\u001b[0;34m\u001b[0m\u001b[0;34m\u001b[0m\u001b[0m\n\u001b[0m\u001b[1;32m    103\u001b[0m       \u001b[0;32mreturn\u001b[0m \u001b[0mreply\u001b[0m\u001b[0;34m.\u001b[0m\u001b[0mget\u001b[0m\u001b[0;34m(\u001b[0m\u001b[0;34m'data'\u001b[0m\u001b[0;34m,\u001b[0m \u001b[0;32mNone\u001b[0m\u001b[0;34m)\u001b[0m\u001b[0;34m\u001b[0m\u001b[0;34m\u001b[0m\u001b[0m\n\u001b[1;32m    104\u001b[0m \u001b[0;34m\u001b[0m\u001b[0m\n",
            "\u001b[0;31mMessageError\u001b[0m: Error: credential propagation was unsuccessful"
          ]
        }
      ],
      "source": [
        "from google.colab import drive\n",
        "drive.mount('/content/drive')"
      ]
    },
    {
      "cell_type": "code",
      "execution_count": null,
      "metadata": {
        "id": "lF5uK_w_MUxV"
      },
      "outputs": [],
      "source": [
        "transform_dict = {\n",
        "        'train': transforms.Compose(\n",
        "            [transforms.Resize((256,256)),\n",
        "             transforms.ToTensor(),\n",
        "             transforms.Normalize(mean=[0.485, 0.456, 0.406],\n",
        "                                  std=[0.229, 0.224, 0.225]),\n",
        "             ]),\n",
        "        'test': transforms.Compose(\n",
        "            [transforms.Resize((256,256)),\n",
        "             transforms.ToTensor(),\n",
        "             #transforms.Normalize(mean=[0.485, 0.456, 0.406],\n",
        "             #                     std=[0.229, 0.224, 0.225]),\n",
        "             ])}"
      ]
    },
    {
      "cell_type": "code",
      "execution_count": null,
      "metadata": {
        "id": "CgdmvtO2NWuj"
      },
      "outputs": [],
      "source": [
        "# ex.\n",
        "data_folder_test = \"./drive/MyDrive/val\"\n",
        "data_folder_train = \"./drive/MyDrive/train\"\n",
        "# transform   = transform_dict[\"train\"]\n",
        "\n",
        "data_val = torchvision.datasets.ImageFolder(root=data_folder_test, transform=transform_dict[\"test\"])\n",
        "data_train = torchvision.datasets.ImageFolder(root=data_folder_train, transform=transform_dict[\"train\"])"
      ]
    },
    {
      "cell_type": "code",
      "execution_count": null,
      "metadata": {
        "colab": {
          "base_uri": "https://localhost:8080/"
        },
        "id": "oxn3PKWtNb_S",
        "outputId": "c8792b28-77c2-43cb-8ff6-8db8818b7cbb"
      },
      "outputs": [
        {
          "name": "stdout",
          "output_type": "stream",
          "text": [
            "1128\n",
            "{'train': 4512, 'val': 1128}\n"
          ]
        }
      ],
      "source": [
        "#いらない\n",
        "# ex.\n",
        "train_ratio = 0.8\n",
        "\n",
        "train_size = int(train_ratio * len(data))\n",
        "# int()で整数に。\n",
        "val_size  = len(data) - train_size      \n",
        "data_size  = {\"train\":train_size, \"val\":val_size}\n",
        "print(val_size)\n",
        "print(data_size)\n",
        "#          =>{\"train\": 112,       \"val\": 28}\n",
        "data_train, data_val = torch.utils.data.random_split(data, [train_size, val_size])\n",
        "#print(list(data_val))"
      ]
    },
    {
      "cell_type": "code",
      "execution_count": null,
      "metadata": {
        "id": "usR_2ikVNlh9"
      },
      "outputs": [],
      "source": [
        "batch_size = 64\n",
        "train_loader = torch.utils.data.DataLoader(data_train, batch_size=batch_size, shuffle=True)\n",
        "val_loader   = torch.utils.data.DataLoader(data_val,   batch_size=batch_size, shuffle=False)\n",
        "dataloaders  = {\"train\":train_loader, \"val\":val_loader}"
      ]
    },
    {
      "cell_type": "code",
      "execution_count": null,
      "metadata": {
        "colab": {
          "base_uri": "https://localhost:8080/",
          "height": 54
        },
        "id": "H7XhcL5_Nn0j",
        "outputId": "d8056da3-3f42-46ed-d093-a7c9d12458b4"
      },
      "outputs": [
        {
          "data": {
            "application/vnd.google.colaboratory.intrinsic+json": {
              "type": "string"
            },
            "text/plain": [
              "'\\n# 訓練データをランダムに取得\\ndataiter = iter(dataloaders[\"train\"])\\nimages, labels = dataiter.next()\\n\\n# 画像の表示\\nimshow(torchvision.utils.make_grid(images))\\n# ラベルの表示\\nprint(\\' \\'.join(\\'%5s\\' % labels[labels[j]] for j in range(8)))\\n'"
            ]
          },
          "execution_count": 6,
          "metadata": {},
          "output_type": "execute_result"
        }
      ],
      "source": [
        "def imshow(img):\n",
        "    img = img / 2 + 0.5     \n",
        "    npimg = img.numpy()\n",
        "    plt.imshow(np.transpose(npimg, (1, 2, 0)))\n",
        "    plt.show()\n",
        "\"\"\"\n",
        "# 訓練データをランダムに取得\n",
        "dataiter = iter(dataloaders[\"train\"])\n",
        "images, labels = dataiter.next()\n",
        "\n",
        "# 画像の表示\n",
        "imshow(torchvision.utils.make_grid(images))\n",
        "# ラベルの表示\n",
        "print(' '.join('%5s' % labels[labels[j]] for j in range(8)))\n",
        "\"\"\""
      ]
    },
    {
      "cell_type": "code",
      "execution_count": null,
      "metadata": {
        "colab": {
          "base_uri": "https://localhost:8080/",
          "height": 54
        },
        "id": "uxeImmx2VeZ7",
        "outputId": "91effbd2-0e2a-4437-e291-731e3009ae2d"
      },
      "outputs": [
        {
          "output_type": "execute_result",
          "data": {
            "text/plain": [
              "'\\n# ミニバッチデータセットの確認\\nfor images, labels in train_batch:\\n    print(\"batch images size: {}\".format(images.size()))  # バッチの画像サイズ\\n    print(\"image size: {}\".format(images[0].size()))  # 1枚の画像サイズ\\n    print(\"batch labels size: {}\".format(labels.size()))  # バッチのラベルサイズ\\n    break\\n'"
            ],
            "application/vnd.google.colaboratory.intrinsic+json": {
              "type": "string"
            }
          },
          "metadata": {},
          "execution_count": 6
        }
      ],
      "source": [
        "# ミニバッチサイズを指定したデータローダーを作成\n",
        "train_batch = torch.utils.data.DataLoader(dataset=data_train,\n",
        "                                          batch_size=64,\n",
        "                                          shuffle=True,\n",
        "                                          num_workers=2)  #8\n",
        "test_batch = torch.utils.data.DataLoader(dataset=data_val,\n",
        "                                         batch_size=64,\n",
        "                                         shuffle=False,\n",
        "                                         num_workers=2)  #8\n",
        "\n",
        "#print(\"batch images size: {}\".format(image.size))  \n",
        "\n",
        "\"\"\"\n",
        "# ミニバッチデータセットの確認\n",
        "for images, labels in train_batch:\n",
        "    print(\"batch images size: {}\".format(images.size()))  # バッチの画像サイズ\n",
        "    print(\"image size: {}\".format(images[0].size()))  # 1枚の画像サイズ\n",
        "    print(\"batch labels size: {}\".format(labels.size()))  # バッチのラベルサイズ\n",
        "    break\n",
        "\"\"\""
      ]
    },
    {
      "cell_type": "code",
      "execution_count": null,
      "metadata": {
        "colab": {
          "base_uri": "https://localhost:8080/",
          "height": 1000,
          "referenced_widgets": [
            "bbc9c38779ce40d7babde2c3067973b5",
            "5b15a057f6e04aff9bd8f23e242fb10d",
            "283159e7ec094986979c59b02299f29c",
            "3db113e96f5d41568b2655d9034297e8",
            "ae78fe420f70436aa55d503c7ec43ed4",
            "5eec7aa97e59488cbfa013593d281b92",
            "ffd82474d6774bd9bb1a496b3336cb4f",
            "1bb2598805a243809f60a2214df0db51",
            "cfcada1ff86440929689d867ce1c7b40",
            "3f6a59e615394c13b44548c92214b598",
            "3d1c06bca6154c7297c42e47a3b9922d"
          ]
        },
        "id": "wAHGcDuYm9Zy",
        "outputId": "05c8860b-01bf-4612-c017-5b93bffa5b55"
      },
      "outputs": [
        {
          "output_type": "stream",
          "name": "stdout",
          "text": [
            "cpu\n"
          ]
        },
        {
          "output_type": "stream",
          "name": "stderr",
          "text": [
            "/usr/local/lib/python3.7/dist-packages/torchvision/models/_utils.py:209: UserWarning: The parameter 'pretrained' is deprecated since 0.13 and will be removed in 0.15, please use 'weights' instead.\n",
            "  f\"The parameter '{pretrained_param}' is deprecated since 0.13 and will be removed in 0.15, \"\n",
            "/usr/local/lib/python3.7/dist-packages/torchvision/models/_utils.py:223: UserWarning: Arguments other than a weight enum or `None` for 'weights' are deprecated since 0.13 and will be removed in 0.15. The current behavior is equivalent to passing `weights=MobileNet_V2_Weights.IMAGENET1K_V1`. You can also use `weights=MobileNet_V2_Weights.DEFAULT` to get the most up-to-date weights.\n",
            "  warnings.warn(msg)\n",
            "Downloading: \"https://download.pytorch.org/models/mobilenet_v2-b0353104.pth\" to /root/.cache/torch/hub/checkpoints/mobilenet_v2-b0353104.pth\n"
          ]
        },
        {
          "output_type": "display_data",
          "data": {
            "text/plain": [
              "  0%|          | 0.00/13.6M [00:00<?, ?B/s]"
            ],
            "application/vnd.jupyter.widget-view+json": {
              "version_major": 2,
              "version_minor": 0,
              "model_id": "bbc9c38779ce40d7babde2c3067973b5"
            }
          },
          "metadata": {}
        },
        {
          "output_type": "stream",
          "name": "stdout",
          "text": [
            "MobileNetV2(\n",
            "  (features): Sequential(\n",
            "    (0): Conv2dNormActivation(\n",
            "      (0): Conv2d(3, 32, kernel_size=(3, 3), stride=(2, 2), padding=(1, 1), bias=False)\n",
            "      (1): BatchNorm2d(32, eps=1e-05, momentum=0.1, affine=True, track_running_stats=True)\n",
            "      (2): ReLU6(inplace=True)\n",
            "    )\n",
            "    (1): InvertedResidual(\n",
            "      (conv): Sequential(\n",
            "        (0): Conv2dNormActivation(\n",
            "          (0): Conv2d(32, 32, kernel_size=(3, 3), stride=(1, 1), padding=(1, 1), groups=32, bias=False)\n",
            "          (1): BatchNorm2d(32, eps=1e-05, momentum=0.1, affine=True, track_running_stats=True)\n",
            "          (2): ReLU6(inplace=True)\n",
            "        )\n",
            "        (1): Conv2d(32, 16, kernel_size=(1, 1), stride=(1, 1), bias=False)\n",
            "        (2): BatchNorm2d(16, eps=1e-05, momentum=0.1, affine=True, track_running_stats=True)\n",
            "      )\n",
            "    )\n",
            "    (2): InvertedResidual(\n",
            "      (conv): Sequential(\n",
            "        (0): Conv2dNormActivation(\n",
            "          (0): Conv2d(16, 96, kernel_size=(1, 1), stride=(1, 1), bias=False)\n",
            "          (1): BatchNorm2d(96, eps=1e-05, momentum=0.1, affine=True, track_running_stats=True)\n",
            "          (2): ReLU6(inplace=True)\n",
            "        )\n",
            "        (1): Conv2dNormActivation(\n",
            "          (0): Conv2d(96, 96, kernel_size=(3, 3), stride=(2, 2), padding=(1, 1), groups=96, bias=False)\n",
            "          (1): BatchNorm2d(96, eps=1e-05, momentum=0.1, affine=True, track_running_stats=True)\n",
            "          (2): ReLU6(inplace=True)\n",
            "        )\n",
            "        (2): Conv2d(96, 24, kernel_size=(1, 1), stride=(1, 1), bias=False)\n",
            "        (3): BatchNorm2d(24, eps=1e-05, momentum=0.1, affine=True, track_running_stats=True)\n",
            "      )\n",
            "    )\n",
            "    (3): InvertedResidual(\n",
            "      (conv): Sequential(\n",
            "        (0): Conv2dNormActivation(\n",
            "          (0): Conv2d(24, 144, kernel_size=(1, 1), stride=(1, 1), bias=False)\n",
            "          (1): BatchNorm2d(144, eps=1e-05, momentum=0.1, affine=True, track_running_stats=True)\n",
            "          (2): ReLU6(inplace=True)\n",
            "        )\n",
            "        (1): Conv2dNormActivation(\n",
            "          (0): Conv2d(144, 144, kernel_size=(3, 3), stride=(1, 1), padding=(1, 1), groups=144, bias=False)\n",
            "          (1): BatchNorm2d(144, eps=1e-05, momentum=0.1, affine=True, track_running_stats=True)\n",
            "          (2): ReLU6(inplace=True)\n",
            "        )\n",
            "        (2): Conv2d(144, 24, kernel_size=(1, 1), stride=(1, 1), bias=False)\n",
            "        (3): BatchNorm2d(24, eps=1e-05, momentum=0.1, affine=True, track_running_stats=True)\n",
            "      )\n",
            "    )\n",
            "    (4): InvertedResidual(\n",
            "      (conv): Sequential(\n",
            "        (0): Conv2dNormActivation(\n",
            "          (0): Conv2d(24, 144, kernel_size=(1, 1), stride=(1, 1), bias=False)\n",
            "          (1): BatchNorm2d(144, eps=1e-05, momentum=0.1, affine=True, track_running_stats=True)\n",
            "          (2): ReLU6(inplace=True)\n",
            "        )\n",
            "        (1): Conv2dNormActivation(\n",
            "          (0): Conv2d(144, 144, kernel_size=(3, 3), stride=(2, 2), padding=(1, 1), groups=144, bias=False)\n",
            "          (1): BatchNorm2d(144, eps=1e-05, momentum=0.1, affine=True, track_running_stats=True)\n",
            "          (2): ReLU6(inplace=True)\n",
            "        )\n",
            "        (2): Conv2d(144, 32, kernel_size=(1, 1), stride=(1, 1), bias=False)\n",
            "        (3): BatchNorm2d(32, eps=1e-05, momentum=0.1, affine=True, track_running_stats=True)\n",
            "      )\n",
            "    )\n",
            "    (5): InvertedResidual(\n",
            "      (conv): Sequential(\n",
            "        (0): Conv2dNormActivation(\n",
            "          (0): Conv2d(32, 192, kernel_size=(1, 1), stride=(1, 1), bias=False)\n",
            "          (1): BatchNorm2d(192, eps=1e-05, momentum=0.1, affine=True, track_running_stats=True)\n",
            "          (2): ReLU6(inplace=True)\n",
            "        )\n",
            "        (1): Conv2dNormActivation(\n",
            "          (0): Conv2d(192, 192, kernel_size=(3, 3), stride=(1, 1), padding=(1, 1), groups=192, bias=False)\n",
            "          (1): BatchNorm2d(192, eps=1e-05, momentum=0.1, affine=True, track_running_stats=True)\n",
            "          (2): ReLU6(inplace=True)\n",
            "        )\n",
            "        (2): Conv2d(192, 32, kernel_size=(1, 1), stride=(1, 1), bias=False)\n",
            "        (3): BatchNorm2d(32, eps=1e-05, momentum=0.1, affine=True, track_running_stats=True)\n",
            "      )\n",
            "    )\n",
            "    (6): InvertedResidual(\n",
            "      (conv): Sequential(\n",
            "        (0): Conv2dNormActivation(\n",
            "          (0): Conv2d(32, 192, kernel_size=(1, 1), stride=(1, 1), bias=False)\n",
            "          (1): BatchNorm2d(192, eps=1e-05, momentum=0.1, affine=True, track_running_stats=True)\n",
            "          (2): ReLU6(inplace=True)\n",
            "        )\n",
            "        (1): Conv2dNormActivation(\n",
            "          (0): Conv2d(192, 192, kernel_size=(3, 3), stride=(1, 1), padding=(1, 1), groups=192, bias=False)\n",
            "          (1): BatchNorm2d(192, eps=1e-05, momentum=0.1, affine=True, track_running_stats=True)\n",
            "          (2): ReLU6(inplace=True)\n",
            "        )\n",
            "        (2): Conv2d(192, 32, kernel_size=(1, 1), stride=(1, 1), bias=False)\n",
            "        (3): BatchNorm2d(32, eps=1e-05, momentum=0.1, affine=True, track_running_stats=True)\n",
            "      )\n",
            "    )\n",
            "    (7): InvertedResidual(\n",
            "      (conv): Sequential(\n",
            "        (0): Conv2dNormActivation(\n",
            "          (0): Conv2d(32, 192, kernel_size=(1, 1), stride=(1, 1), bias=False)\n",
            "          (1): BatchNorm2d(192, eps=1e-05, momentum=0.1, affine=True, track_running_stats=True)\n",
            "          (2): ReLU6(inplace=True)\n",
            "        )\n",
            "        (1): Conv2dNormActivation(\n",
            "          (0): Conv2d(192, 192, kernel_size=(3, 3), stride=(2, 2), padding=(1, 1), groups=192, bias=False)\n",
            "          (1): BatchNorm2d(192, eps=1e-05, momentum=0.1, affine=True, track_running_stats=True)\n",
            "          (2): ReLU6(inplace=True)\n",
            "        )\n",
            "        (2): Conv2d(192, 64, kernel_size=(1, 1), stride=(1, 1), bias=False)\n",
            "        (3): BatchNorm2d(64, eps=1e-05, momentum=0.1, affine=True, track_running_stats=True)\n",
            "      )\n",
            "    )\n",
            "    (8): InvertedResidual(\n",
            "      (conv): Sequential(\n",
            "        (0): Conv2dNormActivation(\n",
            "          (0): Conv2d(64, 384, kernel_size=(1, 1), stride=(1, 1), bias=False)\n",
            "          (1): BatchNorm2d(384, eps=1e-05, momentum=0.1, affine=True, track_running_stats=True)\n",
            "          (2): ReLU6(inplace=True)\n",
            "        )\n",
            "        (1): Conv2dNormActivation(\n",
            "          (0): Conv2d(384, 384, kernel_size=(3, 3), stride=(1, 1), padding=(1, 1), groups=384, bias=False)\n",
            "          (1): BatchNorm2d(384, eps=1e-05, momentum=0.1, affine=True, track_running_stats=True)\n",
            "          (2): ReLU6(inplace=True)\n",
            "        )\n",
            "        (2): Conv2d(384, 64, kernel_size=(1, 1), stride=(1, 1), bias=False)\n",
            "        (3): BatchNorm2d(64, eps=1e-05, momentum=0.1, affine=True, track_running_stats=True)\n",
            "      )\n",
            "    )\n",
            "    (9): InvertedResidual(\n",
            "      (conv): Sequential(\n",
            "        (0): Conv2dNormActivation(\n",
            "          (0): Conv2d(64, 384, kernel_size=(1, 1), stride=(1, 1), bias=False)\n",
            "          (1): BatchNorm2d(384, eps=1e-05, momentum=0.1, affine=True, track_running_stats=True)\n",
            "          (2): ReLU6(inplace=True)\n",
            "        )\n",
            "        (1): Conv2dNormActivation(\n",
            "          (0): Conv2d(384, 384, kernel_size=(3, 3), stride=(1, 1), padding=(1, 1), groups=384, bias=False)\n",
            "          (1): BatchNorm2d(384, eps=1e-05, momentum=0.1, affine=True, track_running_stats=True)\n",
            "          (2): ReLU6(inplace=True)\n",
            "        )\n",
            "        (2): Conv2d(384, 64, kernel_size=(1, 1), stride=(1, 1), bias=False)\n",
            "        (3): BatchNorm2d(64, eps=1e-05, momentum=0.1, affine=True, track_running_stats=True)\n",
            "      )\n",
            "    )\n",
            "    (10): InvertedResidual(\n",
            "      (conv): Sequential(\n",
            "        (0): Conv2dNormActivation(\n",
            "          (0): Conv2d(64, 384, kernel_size=(1, 1), stride=(1, 1), bias=False)\n",
            "          (1): BatchNorm2d(384, eps=1e-05, momentum=0.1, affine=True, track_running_stats=True)\n",
            "          (2): ReLU6(inplace=True)\n",
            "        )\n",
            "        (1): Conv2dNormActivation(\n",
            "          (0): Conv2d(384, 384, kernel_size=(3, 3), stride=(1, 1), padding=(1, 1), groups=384, bias=False)\n",
            "          (1): BatchNorm2d(384, eps=1e-05, momentum=0.1, affine=True, track_running_stats=True)\n",
            "          (2): ReLU6(inplace=True)\n",
            "        )\n",
            "        (2): Conv2d(384, 64, kernel_size=(1, 1), stride=(1, 1), bias=False)\n",
            "        (3): BatchNorm2d(64, eps=1e-05, momentum=0.1, affine=True, track_running_stats=True)\n",
            "      )\n",
            "    )\n",
            "    (11): InvertedResidual(\n",
            "      (conv): Sequential(\n",
            "        (0): Conv2dNormActivation(\n",
            "          (0): Conv2d(64, 384, kernel_size=(1, 1), stride=(1, 1), bias=False)\n",
            "          (1): BatchNorm2d(384, eps=1e-05, momentum=0.1, affine=True, track_running_stats=True)\n",
            "          (2): ReLU6(inplace=True)\n",
            "        )\n",
            "        (1): Conv2dNormActivation(\n",
            "          (0): Conv2d(384, 384, kernel_size=(3, 3), stride=(1, 1), padding=(1, 1), groups=384, bias=False)\n",
            "          (1): BatchNorm2d(384, eps=1e-05, momentum=0.1, affine=True, track_running_stats=True)\n",
            "          (2): ReLU6(inplace=True)\n",
            "        )\n",
            "        (2): Conv2d(384, 96, kernel_size=(1, 1), stride=(1, 1), bias=False)\n",
            "        (3): BatchNorm2d(96, eps=1e-05, momentum=0.1, affine=True, track_running_stats=True)\n",
            "      )\n",
            "    )\n",
            "    (12): InvertedResidual(\n",
            "      (conv): Sequential(\n",
            "        (0): Conv2dNormActivation(\n",
            "          (0): Conv2d(96, 576, kernel_size=(1, 1), stride=(1, 1), bias=False)\n",
            "          (1): BatchNorm2d(576, eps=1e-05, momentum=0.1, affine=True, track_running_stats=True)\n",
            "          (2): ReLU6(inplace=True)\n",
            "        )\n",
            "        (1): Conv2dNormActivation(\n",
            "          (0): Conv2d(576, 576, kernel_size=(3, 3), stride=(1, 1), padding=(1, 1), groups=576, bias=False)\n",
            "          (1): BatchNorm2d(576, eps=1e-05, momentum=0.1, affine=True, track_running_stats=True)\n",
            "          (2): ReLU6(inplace=True)\n",
            "        )\n",
            "        (2): Conv2d(576, 96, kernel_size=(1, 1), stride=(1, 1), bias=False)\n",
            "        (3): BatchNorm2d(96, eps=1e-05, momentum=0.1, affine=True, track_running_stats=True)\n",
            "      )\n",
            "    )\n",
            "    (13): InvertedResidual(\n",
            "      (conv): Sequential(\n",
            "        (0): Conv2dNormActivation(\n",
            "          (0): Conv2d(96, 576, kernel_size=(1, 1), stride=(1, 1), bias=False)\n",
            "          (1): BatchNorm2d(576, eps=1e-05, momentum=0.1, affine=True, track_running_stats=True)\n",
            "          (2): ReLU6(inplace=True)\n",
            "        )\n",
            "        (1): Conv2dNormActivation(\n",
            "          (0): Conv2d(576, 576, kernel_size=(3, 3), stride=(1, 1), padding=(1, 1), groups=576, bias=False)\n",
            "          (1): BatchNorm2d(576, eps=1e-05, momentum=0.1, affine=True, track_running_stats=True)\n",
            "          (2): ReLU6(inplace=True)\n",
            "        )\n",
            "        (2): Conv2d(576, 96, kernel_size=(1, 1), stride=(1, 1), bias=False)\n",
            "        (3): BatchNorm2d(96, eps=1e-05, momentum=0.1, affine=True, track_running_stats=True)\n",
            "      )\n",
            "    )\n",
            "    (14): InvertedResidual(\n",
            "      (conv): Sequential(\n",
            "        (0): Conv2dNormActivation(\n",
            "          (0): Conv2d(96, 576, kernel_size=(1, 1), stride=(1, 1), bias=False)\n",
            "          (1): BatchNorm2d(576, eps=1e-05, momentum=0.1, affine=True, track_running_stats=True)\n",
            "          (2): ReLU6(inplace=True)\n",
            "        )\n",
            "        (1): Conv2dNormActivation(\n",
            "          (0): Conv2d(576, 576, kernel_size=(3, 3), stride=(2, 2), padding=(1, 1), groups=576, bias=False)\n",
            "          (1): BatchNorm2d(576, eps=1e-05, momentum=0.1, affine=True, track_running_stats=True)\n",
            "          (2): ReLU6(inplace=True)\n",
            "        )\n",
            "        (2): Conv2d(576, 160, kernel_size=(1, 1), stride=(1, 1), bias=False)\n",
            "        (3): BatchNorm2d(160, eps=1e-05, momentum=0.1, affine=True, track_running_stats=True)\n",
            "      )\n",
            "    )\n",
            "    (15): InvertedResidual(\n",
            "      (conv): Sequential(\n",
            "        (0): Conv2dNormActivation(\n",
            "          (0): Conv2d(160, 960, kernel_size=(1, 1), stride=(1, 1), bias=False)\n",
            "          (1): BatchNorm2d(960, eps=1e-05, momentum=0.1, affine=True, track_running_stats=True)\n",
            "          (2): ReLU6(inplace=True)\n",
            "        )\n",
            "        (1): Conv2dNormActivation(\n",
            "          (0): Conv2d(960, 960, kernel_size=(3, 3), stride=(1, 1), padding=(1, 1), groups=960, bias=False)\n",
            "          (1): BatchNorm2d(960, eps=1e-05, momentum=0.1, affine=True, track_running_stats=True)\n",
            "          (2): ReLU6(inplace=True)\n",
            "        )\n",
            "        (2): Conv2d(960, 160, kernel_size=(1, 1), stride=(1, 1), bias=False)\n",
            "        (3): BatchNorm2d(160, eps=1e-05, momentum=0.1, affine=True, track_running_stats=True)\n",
            "      )\n",
            "    )\n",
            "    (16): InvertedResidual(\n",
            "      (conv): Sequential(\n",
            "        (0): Conv2dNormActivation(\n",
            "          (0): Conv2d(160, 960, kernel_size=(1, 1), stride=(1, 1), bias=False)\n",
            "          (1): BatchNorm2d(960, eps=1e-05, momentum=0.1, affine=True, track_running_stats=True)\n",
            "          (2): ReLU6(inplace=True)\n",
            "        )\n",
            "        (1): Conv2dNormActivation(\n",
            "          (0): Conv2d(960, 960, kernel_size=(3, 3), stride=(1, 1), padding=(1, 1), groups=960, bias=False)\n",
            "          (1): BatchNorm2d(960, eps=1e-05, momentum=0.1, affine=True, track_running_stats=True)\n",
            "          (2): ReLU6(inplace=True)\n",
            "        )\n",
            "        (2): Conv2d(960, 160, kernel_size=(1, 1), stride=(1, 1), bias=False)\n",
            "        (3): BatchNorm2d(160, eps=1e-05, momentum=0.1, affine=True, track_running_stats=True)\n",
            "      )\n",
            "    )\n",
            "    (17): InvertedResidual(\n",
            "      (conv): Sequential(\n",
            "        (0): Conv2dNormActivation(\n",
            "          (0): Conv2d(160, 960, kernel_size=(1, 1), stride=(1, 1), bias=False)\n",
            "          (1): BatchNorm2d(960, eps=1e-05, momentum=0.1, affine=True, track_running_stats=True)\n",
            "          (2): ReLU6(inplace=True)\n",
            "        )\n",
            "        (1): Conv2dNormActivation(\n",
            "          (0): Conv2d(960, 960, kernel_size=(3, 3), stride=(1, 1), padding=(1, 1), groups=960, bias=False)\n",
            "          (1): BatchNorm2d(960, eps=1e-05, momentum=0.1, affine=True, track_running_stats=True)\n",
            "          (2): ReLU6(inplace=True)\n",
            "        )\n",
            "        (2): Conv2d(960, 320, kernel_size=(1, 1), stride=(1, 1), bias=False)\n",
            "        (3): BatchNorm2d(320, eps=1e-05, momentum=0.1, affine=True, track_running_stats=True)\n",
            "      )\n",
            "    )\n",
            "    (18): Conv2dNormActivation(\n",
            "      (0): Conv2d(320, 1280, kernel_size=(1, 1), stride=(1, 1), bias=False)\n",
            "      (1): BatchNorm2d(1280, eps=1e-05, momentum=0.1, affine=True, track_running_stats=True)\n",
            "      (2): ReLU6(inplace=True)\n",
            "    )\n",
            "  )\n",
            "  (classifier): Sequential(\n",
            "    (0): Dropout(p=0.2, inplace=False)\n",
            "    (1): Linear(in_features=1280, out_features=1000, bias=True)\n",
            "  )\n",
            ")\n"
          ]
        }
      ],
      "source": [
        "###############################################################################\n",
        "###############################################################################\n",
        "\n",
        "from torchvision.models import mobilenetv2\n",
        "# CPUとGPUどちらを使うかを指定\n",
        "device = torch.device('cuda' if torch.cuda.is_available() else 'cpu')\n",
        "print(device)\n",
        "# 学習済みのMobilenet_v2を取得\n",
        "model = mobilenetv2.mobilenet_v2(pretrained=True)\n",
        "model = model.to(device)\n",
        "print(model)  # Mobilenet_v2の構造を表示"
      ]
    },
    {
      "cell_type": "code",
      "execution_count": null,
      "metadata": {
        "colab": {
          "base_uri": "https://localhost:8080/",
          "height": 72
        },
        "id": "gz96rIiLS_ec",
        "outputId": "3a948c90-dc8e-4947-aa92-de4554c6cd87"
      },
      "outputs": [
        {
          "output_type": "execute_result",
          "data": {
            "text/plain": [
              "'\\n# ニューラルネットワークのパラメータが更新されないようにする\\ni = 0\\nfor param in model.parameters():\\n    i = i + 1\\n    param.requires_grad = False\\n\\nj = 0\\nfor param in model.parameters():\\n    if (j == 0):\\n        param.requires_grad = True\\n    if (j == 1):\\n        param.requires_grad = True\\n    j = j + 1\\n\\n#param.requires_grad = True\\nprint(\"---------------------------\")\\nfor param in model.parameters():\\n    print(param.requires_grad)\\nmodel = model.to(device)\\n'"
            ],
            "application/vnd.google.colaboratory.intrinsic+json": {
              "type": "string"
            }
          },
          "metadata": {},
          "execution_count": 8
        }
      ],
      "source": [
        "# ニューラルネットワークのパラメータが更新されないようにする\n",
        "\n",
        "for param in model.parameters():\n",
        "    param.requires_grad = False\n",
        "model = model.to(device)\n",
        "\"\"\"\n",
        "# ニューラルネットワークのパラメータが更新されないようにする\n",
        "i = 0\n",
        "for param in model.parameters():\n",
        "    i = i + 1\n",
        "    param.requires_grad = False\n",
        "\n",
        "j = 0\n",
        "for param in model.parameters():\n",
        "    if (j == 0):\n",
        "        param.requires_grad = True\n",
        "    if (j == 1):\n",
        "        param.requires_grad = True\n",
        "    j = j + 1\n",
        "\n",
        "#param.requires_grad = True\n",
        "print(\"---------------------------\")\n",
        "for param in model.parameters():\n",
        "    print(param.requires_grad)\n",
        "model = model.to(device)\n",
        "\"\"\""
      ]
    },
    {
      "cell_type": "code",
      "execution_count": null,
      "metadata": {
        "colab": {
          "base_uri": "https://localhost:8080/"
        },
        "id": "yPg4riz9TAd_",
        "outputId": "c6e94002-64ee-4663-a756-23e22ca8a64d"
      },
      "outputs": [
        {
          "output_type": "stream",
          "name": "stdout",
          "text": [
            "<class 'int'>\n"
          ]
        }
      ],
      "source": [
        "#出力層の出力を1000クラス用から10クラス用に変更\n",
        "print(type(model.classifier[1].in_features))\n",
        "num_features = model.classifier[1].in_features  # 出力層の入力サイズ \n",
        "num_classes = 3  # CIFAR10のクラスの数を指定\n",
        "model.classifier[1] = nn.Linear(num_features, num_classes).to(device)  # 出力を1000から2へ変更\n",
        "\n",
        "#print(model)"
      ]
    },
    {
      "cell_type": "markdown",
      "metadata": {
        "id": "_jyDRGTTTFc7"
      },
      "source": [
        "3.4. 損失関数と最適化関数の定義"
      ]
    },
    {
      "cell_type": "code",
      "execution_count": null,
      "metadata": {
        "colab": {
          "base_uri": "https://localhost:8080/"
        },
        "id": "pBjotj1ZTDFl",
        "outputId": "253da182-9773-48f6-ff9e-805532333304"
      },
      "outputs": [
        {
          "output_type": "stream",
          "name": "stdout",
          "text": [
            "SGD (\n",
            "Parameter Group 0\n",
            "    dampening: 0\n",
            "    foreach: None\n",
            "    lr: 0.001\n",
            "    maximize: False\n",
            "    momentum: 0\n",
            "    nesterov: False\n",
            "    weight_decay: 1\n",
            ")\n"
          ]
        }
      ],
      "source": [
        "# 損失関数の定義\n",
        "criterion = nn.CrossEntropyLoss()\n",
        "\n",
        "# 最適化関数の定義\n",
        "#lr = 0.08\n",
        "#,lr = lr\n",
        "#weight_decay = 1\n",
        "#optimizer = optim.Adam(model.parameters(),weight_decay = weight_decay)\n",
        "optimizer = optim.SGD(model.parameters(), lr=0.001,weight_decay = 1)\n",
        "print(optimizer)"
      ]
    },
    {
      "cell_type": "markdown",
      "metadata": {
        "id": "xvqhkehTTNe_"
      },
      "source": [
        "3.5. 学習"
      ]
    },
    {
      "cell_type": "code",
      "execution_count": null,
      "metadata": {
        "colab": {
          "base_uri": "https://localhost:8080/",
          "height": 1000
        },
        "id": "L0Nzmtv9TQV-",
        "outputId": "d7c0a598-5bbf-4ab5-c871-7d4e1c5bb344"
      },
      "outputs": [
        {
          "output_type": "stream",
          "name": "stdout",
          "text": [
            "---------------------------------------------\n",
            "Epoch: 1/20\n",
            "実行時間: 296.4740159969999\n",
            "Train_Loss: 0.9012, Train_Accuracy: 0.5965\n",
            "Test_Loss: 0.8670, Test_Accuracy: 0.7182\n",
            "---------------------------------------------\n",
            "Epoch: 2/20\n",
            "実行時間: 84.6102035460001\n",
            "Train_Loss: 0.6934, Train_Accuracy: 0.7979\n",
            "Test_Loss: 0.7818, Test_Accuracy: 0.7924\n",
            "---------------------------------------------\n",
            "Epoch: 3/20\n",
            "実行時間: 90.49966562700001\n",
            "Train_Loss: 0.5846, Train_Accuracy: 0.8773\n",
            "Test_Loss: 0.7341, Test_Accuracy: 0.8214\n",
            "---------------------------------------------\n",
            "Epoch: 4/20\n",
            "実行時間: 97.89896625399979\n",
            "Train_Loss: 0.5353, Train_Accuracy: 0.8876\n",
            "Test_Loss: 0.7390, Test_Accuracy: 0.8276\n",
            "---------------------------------------------\n",
            "Epoch: 5/20\n",
            "実行時間: 94.54385701399997\n",
            "Train_Loss: 0.4851, Train_Accuracy: 0.9080\n",
            "Test_Loss: 0.6791, Test_Accuracy: 0.8309\n",
            "---------------------------------------------\n",
            "Epoch: 6/20\n",
            "実行時間: 92.58803915799945\n",
            "Train_Loss: 0.4675, Train_Accuracy: 0.9034\n",
            "Test_Loss: 0.7621, Test_Accuracy: 0.6451\n",
            "---------------------------------------------\n",
            "Epoch: 7/20\n",
            "実行時間: 94.98853013200005\n",
            "Train_Loss: 0.4409, Train_Accuracy: 0.9180\n",
            "Test_Loss: 0.7128, Test_Accuracy: 0.7232\n",
            "---------------------------------------------\n",
            "Epoch: 8/20\n",
            "実行時間: 95.05396208599996\n",
            "Train_Loss: 0.4337, Train_Accuracy: 0.9133\n",
            "Test_Loss: 0.6825, Test_Accuracy: 0.8209\n",
            "---------------------------------------------\n",
            "Epoch: 9/20\n",
            "実行時間: 93.0331375450005\n",
            "Train_Loss: 0.4125, Train_Accuracy: 0.9248\n",
            "Test_Loss: 0.6901, Test_Accuracy: 0.7455\n",
            "---------------------------------------------\n",
            "Epoch: 10/20\n",
            "実行時間: 96.96439583600022\n",
            "Train_Loss: 0.4056, Train_Accuracy: 0.9252\n",
            "Test_Loss: 0.7155, Test_Accuracy: 0.7121\n",
            "---------------------------------------------\n",
            "Epoch: 11/20\n",
            "実行時間: 99.02308203300072\n",
            "Train_Loss: 0.4110, Train_Accuracy: 0.9154\n",
            "Test_Loss: 0.6945, Test_Accuracy: 0.7126\n",
            "---------------------------------------------\n",
            "Epoch: 12/20\n",
            "実行時間: 94.48265698400064\n",
            "Train_Loss: 0.3948, Train_Accuracy: 0.9284\n",
            "Test_Loss: 0.6399, Test_Accuracy: 0.8030\n",
            "---------------------------------------------\n",
            "Epoch: 13/20\n",
            "実行時間: 102.09270153099988\n",
            "Train_Loss: 0.4000, Train_Accuracy: 0.9178\n",
            "Test_Loss: 0.6823, Test_Accuracy: 0.8103\n",
            "---------------------------------------------\n",
            "Epoch: 14/20\n",
            "実行時間: 99.04168118999951\n",
            "Train_Loss: 0.3876, Train_Accuracy: 0.9350\n",
            "Test_Loss: 0.6545, Test_Accuracy: 0.7679\n",
            "---------------------------------------------\n",
            "Epoch: 15/20\n",
            "実行時間: 103.11613037899951\n",
            "Train_Loss: 0.3927, Train_Accuracy: 0.9204\n",
            "Test_Loss: 0.6654, Test_Accuracy: 0.8198\n",
            "---------------------------------------------\n",
            "Epoch: 16/20\n",
            "実行時間: 99.32245878300091\n",
            "Train_Loss: 0.3884, Train_Accuracy: 0.9268\n",
            "Test_Loss: 0.6669, Test_Accuracy: 0.8348\n",
            "---------------------------------------------\n",
            "Epoch: 17/20\n",
            "実行時間: 99.99810409299971\n",
            "Train_Loss: 0.3808, Train_Accuracy: 0.9334\n",
            "Test_Loss: 0.6778, Test_Accuracy: 0.7556\n",
            "---------------------------------------------\n",
            "Epoch: 18/20\n",
            "実行時間: 102.80140857600054\n",
            "Train_Loss: 0.3897, Train_Accuracy: 0.9213\n",
            "Test_Loss: 0.6717, Test_Accuracy: 0.7494\n",
            "---------------------------------------------\n",
            "Epoch: 19/20\n",
            "実行時間: 102.05736234700089\n",
            "Train_Loss: 0.3804, Train_Accuracy: 0.9363\n",
            "Test_Loss: 0.6833, Test_Accuracy: 0.7266\n",
            "---------------------------------------------\n",
            "Epoch: 20/20\n",
            "実行時間: 98.30276386199876\n",
            "Train_Loss: 0.3874, Train_Accuracy: 0.9230\n",
            "Test_Loss: 0.6997, Test_Accuracy: 0.7517\n"
          ]
        },
        {
          "output_type": "display_data",
          "data": {
            "text/plain": [
              "<Figure size 432x288 with 1 Axes>"
            ],
            "image/png": "[encoded data removed]"
          },
          "metadata": {
            "needs_background": "light"
          }
        },
        {
          "output_type": "display_data",
          "data": {
            "text/plain": [
              "<Figure size 432x288 with 1 Axes>"
            ],
            "image/png": "[encoded data removed]"
          },
          "metadata": {
            "needs_background": "light"
          }
        }
      ],
      "source": [
        "import time\n",
        "\n",
        "# 損失と正解率を保存するリストを作成\n",
        "train_loss_list = []  # 学習損失\n",
        "train_accuracy_list = []  # 学習データの正答率\n",
        "test_loss_list = []  # 評価損失\n",
        "test_accuracy_list = []  # テストデータの正答率\n",
        "\n",
        "# 学習（エポック）の実行\n",
        "epoch = 20\n",
        "for i in range(epoch):\n",
        "    # エポックの進行状況を表示\n",
        "    print('---------------------------------------------')\n",
        "    print(\"Epoch: {}/{}\".format(i+1, epoch))\n",
        "\n",
        "    # 損失と正解率の初期化\n",
        "    train_loss = 0  # 学習損失\n",
        "    train_accuracy = 0  # 学習データの正答数\n",
        "    test_loss = 0  # 評価損失\n",
        "    test_accuracy = 0  # テストデータの正答数\n",
        "    \n",
        "    # ---------学習パート--------- #\n",
        "    # ニューラルネットワークを学習モードに設定\n",
        "    model.train()\n",
        "    # ミニバッチごとにデータをロードし学習\n",
        "    for images, labels in train_batch:\n",
        "        # GPUにTensorを転送\n",
        "        images = images.to(device)\n",
        "        labels = labels.to(device)\n",
        "\n",
        "        # 勾配を初期化\n",
        "        optimizer.zero_grad()\n",
        "        # データを入力して予測値を計算（順伝播）\n",
        "        y_pred_prob = model(images)\n",
        "        # 損失（誤差）を計算\n",
        "        loss = criterion(y_pred_prob, labels)\n",
        "        # 勾配の計算（逆伝搬）\n",
        "        loss.backward()\n",
        "        # パラメータ（重み）の更新\n",
        "        optimizer.step()\n",
        "\n",
        "        # ミニバッチごとの損失を蓄積\n",
        "        train_loss += loss.item()\n",
        "\n",
        "        # 予測したラベルを予測確率y_pred_probから計算\n",
        "        y_pred_labels = torch.max(y_pred_prob, 1)[1]\n",
        "        # ミニバッチごとに正解したラベル数をカウント\n",
        "        train_accuracy += torch.sum(y_pred_labels == labels).item() / len(labels)\n",
        "\n",
        "    # エポックごとの損失と正解率を計算（ミニバッチの平均の損失と正解率を計算）\n",
        "    epoch_train_loss = train_loss / len(train_batch)\n",
        "    epoch_train_accuracy = train_accuracy / len(train_batch)\n",
        "    # ---------学習パートはここまで--------- #\n",
        "    \n",
        "    start = time.perf_counter()\n",
        "\n",
        "    # ---------評価パート--------- #\n",
        "    # ニューラルネットワークを評価モードに設定\n",
        "    model.eval()\n",
        "    # 評価時の計算で自動微分機能をオフにする\n",
        "    with torch.no_grad():\n",
        "        for images, labels in test_batch:\n",
        "            # GPUにTensorを転送\n",
        "            images = images.to(device)\n",
        "            labels = labels.to(device)\n",
        "            # データを入力して予測値を計算（順伝播）\n",
        "            y_pred_prob = model(images)\n",
        "            # 損失（誤差）を計算\n",
        "            loss = criterion(y_pred_prob, labels)\n",
        "            # ミニバッチごとの損失を蓄積\n",
        "            test_loss += loss.item()\n",
        "\n",
        "            # 予測したラベルを予測確率y_pred_probから計算\n",
        "            y_pred_labels = torch.max(y_pred_prob, 1)[1]\n",
        "            # ミニバッチごとに正解したラベル数をカウント\n",
        "            test_accuracy += torch.sum(y_pred_labels == labels).item() / len(labels)\n",
        "    # エポックごとの損失と正解率を計算（ミニバッチの平均の損失と正解率を計算）\n",
        "    epoch_test_loss = test_loss / len(test_batch)\n",
        "    epoch_test_accuracy = test_accuracy / len(test_batch)\n",
        "    # ---------評価パートはここまで--------- #\n",
        "    \n",
        "    end = time.perf_counter()\n",
        "    print(f\"実行時間: {end - start}\")\n",
        "\n",
        "    # エポックごとに損失と正解率を表示\n",
        "    print(\"Train_Loss: {:.4f}, Train_Accuracy: {:.4f}\".format(\n",
        "        epoch_train_loss, epoch_train_accuracy))\n",
        "    print(\"Test_Loss: {:.4f}, Test_Accuracy: {:.4f}\".format(\n",
        "        epoch_test_loss, epoch_test_accuracy))\n",
        "\n",
        "    # 損失と正解率をリスト化して保存\n",
        "    train_loss_list.append(epoch_train_loss)\n",
        "    train_accuracy_list.append(epoch_train_accuracy)\n",
        "    test_loss_list.append(epoch_test_loss)\n",
        "    test_accuracy_list.append(epoch_test_accuracy)\n",
        "\n",
        "# モデルを保存する。\n",
        "torch.save(model.state_dict(), \"./drive/MyDrive/model15.pth\")\n",
        "\n",
        "# 損失\n",
        "\n",
        "plt.figure()\n",
        "plt.title('Train and Test Loss')  # タイトル\n",
        "plt.xlabel('Epoch')  # 横軸名\n",
        "plt.ylabel('Loss')  # 縦軸名\n",
        "#plt.ylim(0.6,1.8)\n",
        "plt.plot(range(1, epoch+1), train_loss_list, color='blue',\n",
        "         linestyle='-', label='Train_Loss')  # Train_lossのプロット\n",
        "plt.plot(range(1, epoch+1), test_loss_list, color='red',\n",
        "         linestyle='--', label='Test_Loss')  # Test_lossのプロット\n",
        "plt.legend()  # 凡例\n",
        "\n",
        "# 正解率\n",
        "plt.figure()\n",
        "plt.title('Train and Test Accuracy')  # タイトル\n",
        "plt.xlabel('Epoch')  # 横軸名\n",
        "plt.ylabel('Accuracy')  # 縦軸名\n",
        "#plt.ylim(0.3,0.8)\n",
        "plt.plot(range(1, epoch+1), train_accuracy_list, color='blue',\n",
        "         linestyle='-', label='Train_Accuracy')  # Train_lossのプロット\n",
        "plt.plot(range(1, epoch+1), test_accuracy_list, color='red',\n",
        "         linestyle='--', label='Test_Accuracy')  # Test_lossのプロット\n",
        "plt.legend()\n",
        "\n",
        "# 表示\n",
        "plt.show()"
      ]
    },
    {
      "cell_type": "code",
      "execution_count": null,
      "metadata": {
        "colab": {
          "base_uri": "https://localhost:8080/",
          "height": 573
        },
        "id": "zpgjHl10TZrb",
        "outputId": "13a00eb4-d7a7-488b-d775-7eda5866d1b2"
      },
      "outputs": [
        {
          "data": {
            "image/png": "[encoded data removed]",
            "text/plain": [
              "<Figure size 432x288 with 1 Axes>"
            ]
          },
          "metadata": {},
          "output_type": "display_data"
        },
        {
          "data": {
            "image/png": "[encoded data removed]",
            "text/plain": [
              "<Figure size 432x288 with 1 Axes>"
            ]
          },
          "metadata": {},
          "output_type": "display_data"
        }
      ],
      "source": [
        "\"\"\"\n",
        "# モデルを保存する。\n",
        "torch.save(model.state_dict(), \"./drive/MyDrive/model.pth\")\n",
        "\n",
        "# 保存したモデルを読み込む。\n",
        "model.load_state_dict(torch.load(\"model.pth\"))\n",
        "\"\"\"\n",
        "# 損失\n",
        "\n",
        "plt.figure()\n",
        "plt.title('Train and Test Loss')  # タイトル\n",
        "plt.xlabel('Epoch')  # 横軸名\n",
        "plt.ylabel('Loss')  # 縦軸名\n",
        "#plt.ylim(0.6,1.8)\n",
        "plt.plot(range(1, epoch+1), train_loss_list, color='blue',\n",
        "         linestyle='-', label='Train_Loss')  # Train_lossのプロット\n",
        "plt.plot(range(1, epoch+1), test_loss_list, color='red',\n",
        "         linestyle='--', label='Test_Loss')  # Test_lossのプロット\n",
        "plt.legend()  # 凡例\n",
        "\n",
        "# 正解率\n",
        "plt.figure()\n",
        "plt.title('Train and Test Accuracy')  # タイトル\n",
        "plt.xlabel('Epoch')  # 横軸名\n",
        "plt.ylabel('Accuracy')  # 縦軸名\n",
        "#plt.ylim(0.3,0.8)\n",
        "plt.plot(range(1, epoch+1), train_accuracy_list, color='blue',\n",
        "         linestyle='-', label='Train_Accuracy')  # Train_lossのプロット\n",
        "plt.plot(range(1, epoch+1), test_accuracy_list, color='red',\n",
        "         linestyle='--', label='Test_Accuracy')  # Test_lossのプロット\n",
        "plt.legend()\n",
        "\n",
        "# 表示\n",
        "plt.show()"
      ]
    },
    {
      "cell_type": "code",
      "execution_count": null,
      "metadata": {
        "colab": {
          "base_uri": "https://localhost:8080/"
        },
        "id": "yz3F-ARMv_hq",
        "outputId": "5e3b4b09-fc36-4c34-9818-dfa8f5c31796"
      },
      "outputs": [
        {
          "data": {
            "text/plain": [
              "<All keys matched successfully>"
            ]
          },
          "execution_count": 41,
          "metadata": {},
          "output_type": "execute_result"
        }
      ],
      "source": [
        "# 保存したモデルを読み込む。\n",
        "model.load_state_dict(torch.load(\"./drive/MyDrive/model2.pth\"))"
      ]
    }
  ],
  "metadata": {
    "colab": {
      "provenance": []
    },
    "kernelspec": {
      "display_name": "Python 3",
      "name": "python3"
    },
    "language_info": {
      "name": "python"
    },
    "widgets": {
      "application/vnd.jupyter.widget-state+json": {
        "bbc9c38779ce40d7babde2c3067973b5": {
          "model_module": "@jupyter-widgets/controls",
          "model_name": "HBoxModel",
          "model_module_version": "1.5.0",
          "state": {
            "_dom_classes": [],
            "_model_module": "@jupyter-widgets/controls",
            "_model_module_version": "1.5.0",
            "_model_name": "HBoxModel",
            "_view_count": null,
            "_view_module": "@jupyter-widgets/controls",
            "_view_module_version": "1.5.0",
            "_view_name": "HBoxView",
            "box_style": "",
            "children": [
              "IPY_MODEL_5b15a057f6e04aff9bd8f23e242fb10d",
              "IPY_MODEL_283159e7ec094986979c59b02299f29c",
              "IPY_MODEL_3db113e96f5d41568b2655d9034297e8"
            ],
            "layout": "IPY_MODEL_ae78fe420f70436aa55d503c7ec43ed4"
          }
        },
        "5b15a057f6e04aff9bd8f23e242fb10d": {
          "model_module": "@jupyter-widgets/controls",
          "model_name": "HTMLModel",
          "model_module_version": "1.5.0",
          "state": {
            "_dom_classes": [],
            "_model_module": "@jupyter-widgets/controls",
            "_model_module_version": "1.5.0",
            "_model_name": "HTMLModel",
            "_view_count": null,
            "_view_module": "@jupyter-widgets/controls",
            "_view_module_version": "1.5.0",
            "_view_name": "HTMLView",
            "description": "",
            "description_tooltip": null,
            "layout": "IPY_MODEL_5eec7aa97e59488cbfa013593d281b92",
            "placeholder": "​",
            "style": "IPY_MODEL_ffd82474d6774bd9bb1a496b3336cb4f",
            "value": "100%"
          }
        },
        "283159e7ec094986979c59b02299f29c": {
          "model_module": "@jupyter-widgets/controls",
          "model_name": "FloatProgressModel",
          "model_module_version": "1.5.0",
          "state": {
            "_dom_classes": [],
            "_model_module": "@jupyter-widgets/controls",
            "_model_module_version": "1.5.0",
            "_model_name": "FloatProgressModel",
            "_view_count": null,
            "_view_module": "@jupyter-widgets/controls",
            "_view_module_version": "1.5.0",
            "_view_name": "ProgressView",
            "bar_style": "success",
            "description": "",
            "description_tooltip": null,
            "layout": "IPY_MODEL_1bb2598805a243809f60a2214df0db51",
            "max": 14212972,
            "min": 0,
            "orientation": "horizontal",
            "style": "IPY_MODEL_cfcada1ff86440929689d867ce1c7b40",
            "value": 14212972
          }
        },
        "3db113e96f5d41568b2655d9034297e8": {
          "model_module": "@jupyter-widgets/controls",
          "model_name": "HTMLModel",
          "model_module_version": "1.5.0",
          "state": {
            "_dom_classes": [],
            "_model_module": "@jupyter-widgets/controls",
            "_model_module_version": "1.5.0",
            "_model_name": "HTMLModel",
            "_view_count": null,
            "_view_module": "@jupyter-widgets/controls",
            "_view_module_version": "1.5.0",
            "_view_name": "HTMLView",
            "description": "",
            "description_tooltip": null,
            "layout": "IPY_MODEL_3f6a59e615394c13b44548c92214b598",
            "placeholder": "​",
            "style": "IPY_MODEL_3d1c06bca6154c7297c42e47a3b9922d",
            "value": " 13.6M/13.6M [00:00&lt;00:00, 23.4MB/s]"
          }
        },
        "ae78fe420f70436aa55d503c7ec43ed4": {
          "model_module": "@jupyter-widgets/base",
          "model_name": "LayoutModel",
          "model_module_version": "1.2.0",
          "state": {
            "_model_module": "@jupyter-widgets/base",
            "_model_module_version": "1.2.0",
            "_model_name": "LayoutModel",
            "_view_count": null,
            "_view_module": "@jupyter-widgets/base",
            "_view_module_version": "1.2.0",
            "_view_name": "LayoutView",
            "align_content": null,
            "align_items": null,
            "align_self": null,
            "border": null,
            "bottom": null,
            "display": null,
            "flex": null,
            "flex_flow": null,
            "grid_area": null,
            "grid_auto_columns": null,
            "grid_auto_flow": null,
            "grid_auto_rows": null,
            "grid_column": null,
            "grid_gap": null,
            "grid_row": null,
            "grid_template_areas": null,
            "grid_template_columns": null,
            "grid_template_rows": null,
            "height": null,
            "justify_content": null,
            "justify_items": null,
            "left": null,
            "margin": null,
            "max_height": null,
            "max_width": null,
            "min_height": null,
            "min_width": null,
            "object_fit": null,
            "object_position": null,
            "order": null,
            "overflow": null,
            "overflow_x": null,
            "overflow_y": null,
            "padding": null,
            "right": null,
            "top": null,
            "visibility": null,
            "width": null
          }
        },
        "5eec7aa97e59488cbfa013593d281b92": {
          "model_module": "@jupyter-widgets/base",
          "model_name": "LayoutModel",
          "model_module_version": "1.2.0",
          "state": {
            "_model_module": "@jupyter-widgets/base",
            "_model_module_version": "1.2.0",
            "_model_name": "LayoutModel",
            "_view_count": null,
            "_view_module": "@jupyter-widgets/base",
            "_view_module_version": "1.2.0",
            "_view_name": "LayoutView",
            "align_content": null,
            "align_items": null,
            "align_self": null,
            "border": null,
            "bottom": null,
            "display": null,
            "flex": null,
            "flex_flow": null,
            "grid_area": null,
            "grid_auto_columns": null,
            "grid_auto_flow": null,
            "grid_auto_rows": null,
            "grid_column": null,
            "grid_gap": null,
            "grid_row": null,
            "grid_template_areas": null,
            "grid_template_columns": null,
            "grid_template_rows": null,
            "height": null,
            "justify_content": null,
            "justify_items": null,
            "left": null,
            "margin": null,
            "max_height": null,
            "max_width": null,
            "min_height": null,
            "min_width": null,
            "object_fit": null,
            "object_position": null,
            "order": null,
            "overflow": null,
            "overflow_x": null,
            "overflow_y": null,
            "padding": null,
            "right": null,
            "top": null,
            "visibility": null,
            "width": null
          }
        },
        "ffd82474d6774bd9bb1a496b3336cb4f": {
          "model_module": "@jupyter-widgets/controls",
          "model_name": "DescriptionStyleModel",
          "model_module_version": "1.5.0",
          "state": {
            "_model_module": "@jupyter-widgets/controls",
            "_model_module_version": "1.5.0",
            "_model_name": "DescriptionStyleModel",
            "_view_count": null,
            "_view_module": "@jupyter-widgets/base",
            "_view_module_version": "1.2.0",
            "_view_name": "StyleView",
            "description_width": ""
          }
        },
        "1bb2598805a243809f60a2214df0db51": {
          "model_module": "@jupyter-widgets/base",
          "model_name": "LayoutModel",
          "model_module_version": "1.2.0",
          "state": {
            "_model_module": "@jupyter-widgets/base",
            "_model_module_version": "1.2.0",
            "_model_name": "LayoutModel",
            "_view_count": null,
            "_view_module": "@jupyter-widgets/base",
            "_view_module_version": "1.2.0",
            "_view_name": "LayoutView",
            "align_content": null,
            "align_items": null,
            "align_self": null,
            "border": null,
            "bottom": null,
            "display": null,
            "flex": null,
            "flex_flow": null,
            "grid_area": null,
            "grid_auto_columns": null,
            "grid_auto_flow": null,
            "grid_auto_rows": null,
            "grid_column": null,
            "grid_gap": null,
            "grid_row": null,
            "grid_template_areas": null,
            "grid_template_columns": null,
            "grid_template_rows": null,
            "height": null,
            "justify_content": null,
            "justify_items": null,
            "left": null,
            "margin": null,
            "max_height": null,
            "max_width": null,
            "min_height": null,
            "min_width": null,
            "object_fit": null,
            "object_position": null,
            "order": null,
            "overflow": null,
            "overflow_x": null,
            "overflow_y": null,
            "padding": null,
            "right": null,
            "top": null,
            "visibility": null,
            "width": null
          }
        },
        "cfcada1ff86440929689d867ce1c7b40": {
          "model_module": "@jupyter-widgets/controls",
          "model_name": "ProgressStyleModel",
          "model_module_version": "1.5.0",
          "state": {
            "_model_module": "@jupyter-widgets/controls",
            "_model_module_version": "1.5.0",
            "_model_name": "ProgressStyleModel",
            "_view_count": null,
            "_view_module": "@jupyter-widgets/base",
            "_view_module_version": "1.2.0",
            "_view_name": "StyleView",
            "bar_color": null,
            "description_width": ""
          }
        },
        "3f6a59e615394c13b44548c92214b598": {
          "model_module": "@jupyter-widgets/base",
          "model_name": "LayoutModel",
          "model_module_version": "1.2.0",
          "state": {
            "_model_module": "@jupyter-widgets/base",
            "_model_module_version": "1.2.0",
            "_model_name": "LayoutModel",
            "_view_count": null,
            "_view_module": "@jupyter-widgets/base",
            "_view_module_version": "1.2.0",
            "_view_name": "LayoutView",
            "align_content": null,
            "align_items": null,
            "align_self": null,
            "border": null,
            "bottom": null,
            "display": null,
            "flex": null,
            "flex_flow": null,
            "grid_area": null,
            "grid_auto_columns": null,
            "grid_auto_flow": null,
            "grid_auto_rows": null,
            "grid_column": null,
            "grid_gap": null,
            "grid_row": null,
            "grid_template_areas": null,
            "grid_template_columns": null,
            "grid_template_rows": null,
            "height": null,
            "justify_content": null,
            "justify_items": null,
            "left": null,
            "margin": null,
            "max_height": null,
            "max_width": null,
            "min_height": null,
            "min_width": null,
            "object_fit": null,
            "object_position": null,
            "order": null,
            "overflow": null,
            "overflow_x": null,
            "overflow_y": null,
            "padding": null,
            "right": null,
            "top": null,
            "visibility": null,
            "width": null
          }
        },
        "3d1c06bca6154c7297c42e47a3b9922d": {
          "model_module": "@jupyter-widgets/controls",
          "model_name": "DescriptionStyleModel",
          "model_module_version": "1.5.0",
          "state": {
            "_model_module": "@jupyter-widgets/controls",
            "_model_module_version": "1.5.0",
            "_model_name": "DescriptionStyleModel",
            "_view_count": null,
            "_view_module": "@jupyter-widgets/base",
            "_view_module_version": "1.2.0",
            "_view_name": "StyleView",
            "description_width": ""
          }
        }
      }
    }
  },
  "nbformat": 4,
  "nbformat_minor": 0
}